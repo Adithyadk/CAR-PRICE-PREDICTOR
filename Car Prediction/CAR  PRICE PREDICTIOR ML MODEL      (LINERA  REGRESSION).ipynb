{
 "cells": [
  {
   "cell_type": "code",
   "execution_count": 1,
   "id": "3a5fc069",
   "metadata": {},
   "outputs": [],
   "source": [
    "#importing required libraries\n",
    "import numpy as np\n",
    "import pandas as pd\n",
    "import seaborn as sns\n",
    "import matplotlib.pyplot as plt\n",
    "from matplotlib import style"
   ]
  },
  {
   "cell_type": "code",
   "execution_count": 2,
   "id": "24ef0e4b",
   "metadata": {},
   "outputs": [],
   "source": [
    "#Collecting Data\n",
    "dataset=pd.read_csv('CAR DETAILS FROM CAR DEKHO.csv')"
   ]
  },
  {
   "cell_type": "code",
   "execution_count": 3,
   "id": "fcf72c45",
   "metadata": {},
   "outputs": [
    {
     "data": {
      "text/html": [
       "<div>\n",
       "<style scoped>\n",
       "    .dataframe tbody tr th:only-of-type {\n",
       "        vertical-align: middle;\n",
       "    }\n",
       "\n",
       "    .dataframe tbody tr th {\n",
       "        vertical-align: top;\n",
       "    }\n",
       "\n",
       "    .dataframe thead th {\n",
       "        text-align: right;\n",
       "    }\n",
       "</style>\n",
       "<table border=\"1\" class=\"dataframe\">\n",
       "  <thead>\n",
       "    <tr style=\"text-align: right;\">\n",
       "      <th></th>\n",
       "      <th>name</th>\n",
       "      <th>year</th>\n",
       "      <th>selling_price</th>\n",
       "      <th>km_driven</th>\n",
       "      <th>fuel</th>\n",
       "      <th>seller_type</th>\n",
       "      <th>transmission</th>\n",
       "      <th>owner</th>\n",
       "    </tr>\n",
       "  </thead>\n",
       "  <tbody>\n",
       "    <tr>\n",
       "      <th>0</th>\n",
       "      <td>Maruti 800 AC</td>\n",
       "      <td>2007</td>\n",
       "      <td>60000</td>\n",
       "      <td>70000</td>\n",
       "      <td>Petrol</td>\n",
       "      <td>Individual</td>\n",
       "      <td>Manual</td>\n",
       "      <td>First Owner</td>\n",
       "    </tr>\n",
       "    <tr>\n",
       "      <th>1</th>\n",
       "      <td>Maruti Wagon R LXI Minor</td>\n",
       "      <td>2007</td>\n",
       "      <td>135000</td>\n",
       "      <td>50000</td>\n",
       "      <td>Petrol</td>\n",
       "      <td>Individual</td>\n",
       "      <td>Manual</td>\n",
       "      <td>First Owner</td>\n",
       "    </tr>\n",
       "    <tr>\n",
       "      <th>2</th>\n",
       "      <td>Hyundai Verna 1.6 SX</td>\n",
       "      <td>2012</td>\n",
       "      <td>600000</td>\n",
       "      <td>100000</td>\n",
       "      <td>Diesel</td>\n",
       "      <td>Individual</td>\n",
       "      <td>Manual</td>\n",
       "      <td>First Owner</td>\n",
       "    </tr>\n",
       "    <tr>\n",
       "      <th>3</th>\n",
       "      <td>Datsun RediGO T Option</td>\n",
       "      <td>2017</td>\n",
       "      <td>250000</td>\n",
       "      <td>46000</td>\n",
       "      <td>Petrol</td>\n",
       "      <td>Individual</td>\n",
       "      <td>Manual</td>\n",
       "      <td>First Owner</td>\n",
       "    </tr>\n",
       "    <tr>\n",
       "      <th>4</th>\n",
       "      <td>Honda Amaze VX i-DTEC</td>\n",
       "      <td>2014</td>\n",
       "      <td>450000</td>\n",
       "      <td>141000</td>\n",
       "      <td>Diesel</td>\n",
       "      <td>Individual</td>\n",
       "      <td>Manual</td>\n",
       "      <td>Second Owner</td>\n",
       "    </tr>\n",
       "  </tbody>\n",
       "</table>\n",
       "</div>"
      ],
      "text/plain": [
       "                       name  year  selling_price  km_driven    fuel  \\\n",
       "0             Maruti 800 AC  2007          60000      70000  Petrol   \n",
       "1  Maruti Wagon R LXI Minor  2007         135000      50000  Petrol   \n",
       "2      Hyundai Verna 1.6 SX  2012         600000     100000  Diesel   \n",
       "3    Datsun RediGO T Option  2017         250000      46000  Petrol   \n",
       "4     Honda Amaze VX i-DTEC  2014         450000     141000  Diesel   \n",
       "\n",
       "  seller_type transmission         owner  \n",
       "0  Individual       Manual   First Owner  \n",
       "1  Individual       Manual   First Owner  \n",
       "2  Individual       Manual   First Owner  \n",
       "3  Individual       Manual   First Owner  \n",
       "4  Individual       Manual  Second Owner  "
      ]
     },
     "execution_count": 3,
     "metadata": {},
     "output_type": "execute_result"
    }
   ],
   "source": [
    "#Displaying the Data \n",
    "dataset.head()"
   ]
  },
  {
   "cell_type": "code",
   "execution_count": 4,
   "id": "c734efb9",
   "metadata": {},
   "outputs": [
    {
     "data": {
      "text/plain": [
       "(4340, 8)"
      ]
     },
     "execution_count": 4,
     "metadata": {},
     "output_type": "execute_result"
    }
   ],
   "source": [
    "#Discribe the shape\n",
    "dataset.shape"
   ]
  },
  {
   "cell_type": "code",
   "execution_count": 5,
   "id": "bae1903c",
   "metadata": {},
   "outputs": [
    {
     "name": "stdout",
     "output_type": "stream",
     "text": [
      "<class 'pandas.core.frame.DataFrame'>\n",
      "RangeIndex: 4340 entries, 0 to 4339\n",
      "Data columns (total 8 columns):\n",
      " #   Column         Non-Null Count  Dtype \n",
      "---  ------         --------------  ----- \n",
      " 0   name           4340 non-null   object\n",
      " 1   year           4340 non-null   int64 \n",
      " 2   selling_price  4340 non-null   int64 \n",
      " 3   km_driven      4340 non-null   int64 \n",
      " 4   fuel           4340 non-null   object\n",
      " 5   seller_type    4340 non-null   object\n",
      " 6   transmission   4340 non-null   object\n",
      " 7   owner          4340 non-null   object\n",
      "dtypes: int64(3), object(5)\n",
      "memory usage: 271.4+ KB\n"
     ]
    }
   ],
   "source": [
    "#Information Discription\n",
    "dataset.info()"
   ]
  },
  {
   "cell_type": "code",
   "execution_count": 6,
   "id": "bd341973",
   "metadata": {},
   "outputs": [
    {
     "data": {
      "text/plain": [
       "array([2007, 2012, 2017, 2014, 2016, 2015, 2018, 2019, 2013, 2011, 2010,\n",
       "       2009, 2006, 1996, 2005, 2008, 2004, 1998, 2003, 2002, 2020, 2000,\n",
       "       1999, 2001, 1995, 1997, 1992], dtype=int64)"
      ]
     },
     "execution_count": 6,
     "metadata": {},
     "output_type": "execute_result"
    }
   ],
   "source": [
    "#Quality\n",
    "dataset['year'].unique()"
   ]
  },
  {
   "cell_type": "code",
   "execution_count": 7,
   "id": "8cbd2dc9",
   "metadata": {},
   "outputs": [
    {
     "data": {
      "text/plain": [
       "array([ 70000,  50000, 100000,  46000, 141000, 125000,  25000,  60000,\n",
       "        78000,  35000,  24000,   5000,  33000,  28000,  59000,   4500,\n",
       "       175900,  14500,  15000,  33800, 130400,  80000,  10000, 119000,\n",
       "        75800,  40000,  74000,  64000, 120000,  79000,  18500,  10200,\n",
       "        29000,  90000,  73300,  92000,  66764, 350000, 230000,  31000,\n",
       "        39000, 166000, 110000,  54000,  63000,  76000,  11958,  20000,\n",
       "         9000,   6500,  58000,  62200,  34000,  53000,  49000,  63500,\n",
       "         9800,  13000,  21000,  29173,  48000,  30000,  87000,  16000,\n",
       "        79350,  81000,   3600,  14272,  49213,  57000,   3240, 114000,\n",
       "        53772, 140000, 175000,  36000, 155500,  23000,  22155,  78380,\n",
       "       150000,  80362,  55000,   1136,  43000,   2650, 115962,  65000,\n",
       "        56000, 213000, 139000, 160000, 163000,  32000,  52000,  11240,\n",
       "        66000,  26500,  72000,  44000, 130000, 195000, 155000,   4000,\n",
       "        41000,  10832,  14681,  51000, 200000,  19600,  46730,  21170,\n",
       "       167223, 141440, 212814,  88635, 149674,   8000,  68000,  38000,\n",
       "        75000,  98000,  81925,  82080,  97000,  52047,  62009,  33100,\n",
       "       220000,  45000, 180000,  22000,  80577, 127500,  40903,  22288,\n",
       "        61690,  64484,  75976,  85962,  57035,  72104, 164000, 124439,\n",
       "        77000,   1250,  17152,  24005, 149000,  19000, 109000,  61000,\n",
       "        27633,  12586,  38083,  55328,  81632, 155201,  93283, 217871,\n",
       "        90165, 101504,  86017,  85036,  91086, 160254, 125531,  82000,\n",
       "        84000, 560000,  14365,  61083,  66363,  11700,   7104,  45974,\n",
       "        55340,  61585,  39415,  29654,  64672,  54634,  66521,  23974,\n",
       "         1000,  86000,  52600,  19890,  11918,  10510,  47162,  49824,\n",
       "        58500,  56580,  46507,  11451, 172000,  66508,  29900,   3000,\n",
       "        85000,   7900,  17500, 206500,  88600, 186000,  11000, 138000,\n",
       "        27974,  18000,   1400, 124000,  42000,  28205,  32670,  30093,\n",
       "        56228,  59319,  39503,  35299,  51687,  76259,  44049,  45087,\n",
       "        41125,  42215,  54206,  52547,  59110,  54565,  47564,  45143,\n",
       "        61624, 132000,  10980,  20629,  69782,  63654,  59385,  70378,\n",
       "        55425,  78413,  40890,  34823,  55545,  56541,  43700,  27483,\n",
       "        56207,   1440,  91195,  63657,  97248,  89000,  12000,  12997,\n",
       "        26430,  24600,  28481,  41988,  30375,   7658,  34400,  28942,\n",
       "        53600,  53652, 106000, 205000,  79500, 197000,   9161,  19077,\n",
       "       128000,  21302,  10500, 107000,  55300,  74300,  48781,  87620,\n",
       "        40219,  11473,   8352,   9745,   9748,  20694,  31080,  37605,\n",
       "        55850,  58850,  23839,  45454,  46957, 190000,   1500,  47000,\n",
       "       116000,  26350,  71042, 167870, 133564,  23038,  43608,  11212,\n",
       "        49217,  28838, 135000,  19571,  29600,  13500,  48600, 127643,\n",
       "       102354,  62237,  21394,  32686,   1001,  53261,  14000,  39895,\n",
       "        73000,  17000,  18591,  26766, 300000,  27620, 223000, 161327,\n",
       "         6000,  71000, 144000,  37000,  26000,  27000,  13250, 101000,\n",
       "         8500,  90246,  60400,  70950,   1100,  31491, 107143,  46412,\n",
       "       107500,  43826,  55838, 112880,  30300,  80659,  81324, 127884,\n",
       "        66755, 123084, 806599,  95851, 234000, 170000,  96000,  19014,\n",
       "        23262,  35925,  40771,  30500,  55800,  66569,  81358,  82695,\n",
       "        68293, 190621,  64700,  88470, 126000,  74183,      1, 192000,\n",
       "        83411,  13270,  88000,   7000,  13770, 102000, 143000, 115000,\n",
       "       136906, 133000,  28689,  80322,  61658, 185000,  30600, 235000,\n",
       "        67000,  74500, 118700, 223660,   2000,  73756,  16400,  41395,\n",
       "        71014, 181000,  89550, 149500,  83000,  44800, 156000, 146000,\n",
       "        99000,  37516,  25880, 136000,   2020,  94000,  88500,  52536,\n",
       "         1950, 118400,   6480,  32077,  19107,  18469,  28217,  72787,\n",
       "        31063,  79641,  58692,  54784,  64156,   9500,  81366, 244000,\n",
       "       312000, 145000,   7300,  72539,    101,  52328,  91505,  20500,\n",
       "       154000,  41723,  68745,  27289,  24662,  28245,  27005,  39227,\n",
       "        31367,  35008, 100005,  45264,  39093,  45241,   2769,  43128,\n",
       "        22255,  59213,   1010,   1111,  48965,   5166,  76290,  45766,\n",
       "        78771,  79357,  76736,  92645, 101849, 155836,  63230,   1758,\n",
       "         1452,  35122,  92621,  92198, 152000,  78322,  54309,  34600,\n",
       "        38217,  77073,  16584,  81257,   3917,  69069,  59059,  39039,\n",
       "        33033,  55168,  41041,  67067,  66066,  82082,  70070,  63063,\n",
       "         9528, 135200,  50300, 151624,  74820, 129000,  66778,  63400,\n",
       "       157000,  38500, 103921,  14825,  43377, 102307, 245244,  68500,\n",
       "         5007,  49600,  43100,  10171,  41123,  20118,  52517,  99117,\n",
       "         3700,  43500, 137250,   5400,  11200,  93000,  62000,   5800,\n",
       "       267000, 250000,  28635,  32114,  95149,  68458, 105546, 104000,\n",
       "       132343,  26134,  52895,  42324,  60236,  10300, 142000,  28643,\n",
       "         7600,  47253,   4432,  68523,  80251,  34500,  42743,  93900,\n",
       "        55766, 113600, 138925, 121764, 105429,  23122,  44500,  13599,\n",
       "         5200,  12700,  95000,  45839,  74510,  87293, 156040,  93415,\n",
       "       101159,  68519,  55130,  65239,  58182,  91245, 102989, 108000,\n",
       "       178000,  75118,   4637,  42655,  69000, 117000, 105000, 182000,\n",
       "        24585,  13900,  17563, 173000, 151000, 117780,  81595,   9700,\n",
       "       221000,  28740,  48500, 148620, 270000,  41090, 296823,  89255,\n",
       "       168000,   5550,   1700,  45217,  44440,  91365,  90010,  31800,\n",
       "        59100,  31200,  22700,  50900,   2417,  65500, 140300,  10211,\n",
       "       260000,  32933,  54551,  57112,  41025,  53122,  64111,  78892,\n",
       "        74113,  84775,  20778,  64441,  43192,  44416,  79991,  62601,\n",
       "        89600,  60800,  69111,  20969,  20194,  34982,  44588,  57904,\n",
       "        59258,  60826,   1300,  31707, 115992, 109052,  90658,  25552,\n",
       "        40700,  11174,  72500,  76600,  97700,  37500,  23800,  44077,\n",
       "       210000,   9422, 240000,  17100, 224642, 222435, 159000, 101100,\n",
       "         1200, 134444, 238000, 165000,  63700,  74800,  60516,  76731,\n",
       "        63840,  76400,  31489, 295000, 158000, 400000,  19495,  62668,\n",
       "        85710,  63356, 129627,   4400,  14987,  25061,  42494,  44875,\n",
       "        89741, 347089, 222252,  55250,  12500, 162000,  22038,   2500,\n",
       "        89126, 134000,  42500, 131365,  48980,  98900,  13800,  99700,\n",
       "        49654,  45457,  39221,  48220,  11114,  60208,  98600,  85441,\n",
       "        64541,  16267,  71500,  12999,  14700,  92686,  49359, 108731,\n",
       "        29976,  30646,  23600,  71318,  78098,  18054,  38406,  54350,\n",
       "        32260,  58231,  59858,  73350,  88473,  96987,  77350,  61187,\n",
       "        68350,  81150, 280000, 105700,  37091,  38900,   9400,  14100,\n",
       "        37555,  56600,  67580,  48238,  38365,  23670,  49834,  57353,\n",
       "        68308,  63240,  64916,  37161, 118000,  50852,  53500,  51500,\n",
       "        79800,   6590,  49957,  43235,  50699, 140730, 256000, 218000,\n",
       "        66782, 112198], dtype=int64)"
      ]
     },
     "execution_count": 7,
     "metadata": {},
     "output_type": "execute_result"
    }
   ],
   "source": [
    "#Quality\n",
    "dataset['km_driven'].unique()"
   ]
  },
  {
   "cell_type": "code",
   "execution_count": 8,
   "id": "8df411e6",
   "metadata": {},
   "outputs": [
    {
     "data": {
      "text/plain": [
       "array(['Petrol', 'Diesel', 'CNG', 'LPG', 'Electric'], dtype=object)"
      ]
     },
     "execution_count": 8,
     "metadata": {},
     "output_type": "execute_result"
    }
   ],
   "source": [
    "#quality\n",
    "dataset['fuel'].unique()"
   ]
  },
  {
   "cell_type": "code",
   "execution_count": 9,
   "id": "6fd7cdbb",
   "metadata": {},
   "outputs": [],
   "source": [
    "#Keeping the company name\n",
    "dataset['name']=dataset['name'].str.split(' ').str.slice(0,3).str.join(' ')"
   ]
  },
  {
   "cell_type": "code",
   "execution_count": 10,
   "id": "65be8810",
   "metadata": {},
   "outputs": [
    {
     "data": {
      "text/html": [
       "<div>\n",
       "<style scoped>\n",
       "    .dataframe tbody tr th:only-of-type {\n",
       "        vertical-align: middle;\n",
       "    }\n",
       "\n",
       "    .dataframe tbody tr th {\n",
       "        vertical-align: top;\n",
       "    }\n",
       "\n",
       "    .dataframe thead th {\n",
       "        text-align: right;\n",
       "    }\n",
       "</style>\n",
       "<table border=\"1\" class=\"dataframe\">\n",
       "  <thead>\n",
       "    <tr style=\"text-align: right;\">\n",
       "      <th></th>\n",
       "      <th>name</th>\n",
       "      <th>year</th>\n",
       "      <th>selling_price</th>\n",
       "      <th>km_driven</th>\n",
       "      <th>fuel</th>\n",
       "      <th>seller_type</th>\n",
       "      <th>transmission</th>\n",
       "      <th>owner</th>\n",
       "    </tr>\n",
       "  </thead>\n",
       "  <tbody>\n",
       "    <tr>\n",
       "      <th>0</th>\n",
       "      <td>Maruti 800 AC</td>\n",
       "      <td>2007</td>\n",
       "      <td>60000</td>\n",
       "      <td>70000</td>\n",
       "      <td>Petrol</td>\n",
       "      <td>Individual</td>\n",
       "      <td>Manual</td>\n",
       "      <td>First Owner</td>\n",
       "    </tr>\n",
       "    <tr>\n",
       "      <th>1</th>\n",
       "      <td>Maruti Wagon R</td>\n",
       "      <td>2007</td>\n",
       "      <td>135000</td>\n",
       "      <td>50000</td>\n",
       "      <td>Petrol</td>\n",
       "      <td>Individual</td>\n",
       "      <td>Manual</td>\n",
       "      <td>First Owner</td>\n",
       "    </tr>\n",
       "    <tr>\n",
       "      <th>2</th>\n",
       "      <td>Hyundai Verna 1.6</td>\n",
       "      <td>2012</td>\n",
       "      <td>600000</td>\n",
       "      <td>100000</td>\n",
       "      <td>Diesel</td>\n",
       "      <td>Individual</td>\n",
       "      <td>Manual</td>\n",
       "      <td>First Owner</td>\n",
       "    </tr>\n",
       "    <tr>\n",
       "      <th>3</th>\n",
       "      <td>Datsun RediGO T</td>\n",
       "      <td>2017</td>\n",
       "      <td>250000</td>\n",
       "      <td>46000</td>\n",
       "      <td>Petrol</td>\n",
       "      <td>Individual</td>\n",
       "      <td>Manual</td>\n",
       "      <td>First Owner</td>\n",
       "    </tr>\n",
       "    <tr>\n",
       "      <th>4</th>\n",
       "      <td>Honda Amaze VX</td>\n",
       "      <td>2014</td>\n",
       "      <td>450000</td>\n",
       "      <td>141000</td>\n",
       "      <td>Diesel</td>\n",
       "      <td>Individual</td>\n",
       "      <td>Manual</td>\n",
       "      <td>Second Owner</td>\n",
       "    </tr>\n",
       "    <tr>\n",
       "      <th>...</th>\n",
       "      <td>...</td>\n",
       "      <td>...</td>\n",
       "      <td>...</td>\n",
       "      <td>...</td>\n",
       "      <td>...</td>\n",
       "      <td>...</td>\n",
       "      <td>...</td>\n",
       "      <td>...</td>\n",
       "    </tr>\n",
       "    <tr>\n",
       "      <th>4335</th>\n",
       "      <td>Hyundai i20 Magna</td>\n",
       "      <td>2014</td>\n",
       "      <td>409999</td>\n",
       "      <td>80000</td>\n",
       "      <td>Diesel</td>\n",
       "      <td>Individual</td>\n",
       "      <td>Manual</td>\n",
       "      <td>Second Owner</td>\n",
       "    </tr>\n",
       "    <tr>\n",
       "      <th>4336</th>\n",
       "      <td>Hyundai i20 Magna</td>\n",
       "      <td>2014</td>\n",
       "      <td>409999</td>\n",
       "      <td>80000</td>\n",
       "      <td>Diesel</td>\n",
       "      <td>Individual</td>\n",
       "      <td>Manual</td>\n",
       "      <td>Second Owner</td>\n",
       "    </tr>\n",
       "    <tr>\n",
       "      <th>4337</th>\n",
       "      <td>Maruti 800 AC</td>\n",
       "      <td>2009</td>\n",
       "      <td>110000</td>\n",
       "      <td>83000</td>\n",
       "      <td>Petrol</td>\n",
       "      <td>Individual</td>\n",
       "      <td>Manual</td>\n",
       "      <td>Second Owner</td>\n",
       "    </tr>\n",
       "    <tr>\n",
       "      <th>4338</th>\n",
       "      <td>Hyundai Creta 1.6</td>\n",
       "      <td>2016</td>\n",
       "      <td>865000</td>\n",
       "      <td>90000</td>\n",
       "      <td>Diesel</td>\n",
       "      <td>Individual</td>\n",
       "      <td>Manual</td>\n",
       "      <td>First Owner</td>\n",
       "    </tr>\n",
       "    <tr>\n",
       "      <th>4339</th>\n",
       "      <td>Renault KWID RXT</td>\n",
       "      <td>2016</td>\n",
       "      <td>225000</td>\n",
       "      <td>40000</td>\n",
       "      <td>Petrol</td>\n",
       "      <td>Individual</td>\n",
       "      <td>Manual</td>\n",
       "      <td>First Owner</td>\n",
       "    </tr>\n",
       "  </tbody>\n",
       "</table>\n",
       "<p>4340 rows × 8 columns</p>\n",
       "</div>"
      ],
      "text/plain": [
       "                   name  year  selling_price  km_driven    fuel seller_type  \\\n",
       "0         Maruti 800 AC  2007          60000      70000  Petrol  Individual   \n",
       "1        Maruti Wagon R  2007         135000      50000  Petrol  Individual   \n",
       "2     Hyundai Verna 1.6  2012         600000     100000  Diesel  Individual   \n",
       "3       Datsun RediGO T  2017         250000      46000  Petrol  Individual   \n",
       "4        Honda Amaze VX  2014         450000     141000  Diesel  Individual   \n",
       "...                 ...   ...            ...        ...     ...         ...   \n",
       "4335  Hyundai i20 Magna  2014         409999      80000  Diesel  Individual   \n",
       "4336  Hyundai i20 Magna  2014         409999      80000  Diesel  Individual   \n",
       "4337      Maruti 800 AC  2009         110000      83000  Petrol  Individual   \n",
       "4338  Hyundai Creta 1.6  2016         865000      90000  Diesel  Individual   \n",
       "4339   Renault KWID RXT  2016         225000      40000  Petrol  Individual   \n",
       "\n",
       "     transmission         owner  \n",
       "0          Manual   First Owner  \n",
       "1          Manual   First Owner  \n",
       "2          Manual   First Owner  \n",
       "3          Manual   First Owner  \n",
       "4          Manual  Second Owner  \n",
       "...           ...           ...  \n",
       "4335       Manual  Second Owner  \n",
       "4336       Manual  Second Owner  \n",
       "4337       Manual  Second Owner  \n",
       "4338       Manual   First Owner  \n",
       "4339       Manual   First Owner  \n",
       "\n",
       "[4340 rows x 8 columns]"
      ]
     },
     "execution_count": 10,
     "metadata": {},
     "output_type": "execute_result"
    }
   ],
   "source": [
    "# Data Display\n",
    "dataset"
   ]
  },
  {
   "cell_type": "code",
   "execution_count": 11,
   "id": "9c1a3cda",
   "metadata": {},
   "outputs": [],
   "source": [
    "#Backup copy of the cleaned data\n",
    "backup=dataset.copy()"
   ]
  },
  {
   "cell_type": "code",
   "execution_count": 12,
   "id": "4d3e527c",
   "metadata": {},
   "outputs": [
    {
     "name": "stdout",
     "output_type": "stream",
     "text": [
      "<class 'pandas.core.frame.DataFrame'>\n",
      "RangeIndex: 4340 entries, 0 to 4339\n",
      "Data columns (total 8 columns):\n",
      " #   Column         Non-Null Count  Dtype \n",
      "---  ------         --------------  ----- \n",
      " 0   name           4340 non-null   object\n",
      " 1   year           4340 non-null   int64 \n",
      " 2   selling_price  4340 non-null   int64 \n",
      " 3   km_driven      4340 non-null   int64 \n",
      " 4   fuel           4340 non-null   object\n",
      " 5   seller_type    4340 non-null   object\n",
      " 6   transmission   4340 non-null   object\n",
      " 7   owner          4340 non-null   object\n",
      "dtypes: int64(3), object(5)\n",
      "memory usage: 271.4+ KB\n"
     ]
    }
   ],
   "source": [
    "#information on the data\n",
    "dataset.info()"
   ]
  },
  {
   "cell_type": "code",
   "execution_count": 13,
   "id": "035a7d25",
   "metadata": {},
   "outputs": [
    {
     "data": {
      "text/html": [
       "<div>\n",
       "<style scoped>\n",
       "    .dataframe tbody tr th:only-of-type {\n",
       "        vertical-align: middle;\n",
       "    }\n",
       "\n",
       "    .dataframe tbody tr th {\n",
       "        vertical-align: top;\n",
       "    }\n",
       "\n",
       "    .dataframe thead th {\n",
       "        text-align: right;\n",
       "    }\n",
       "</style>\n",
       "<table border=\"1\" class=\"dataframe\">\n",
       "  <thead>\n",
       "    <tr style=\"text-align: right;\">\n",
       "      <th></th>\n",
       "      <th>year</th>\n",
       "      <th>selling_price</th>\n",
       "      <th>km_driven</th>\n",
       "    </tr>\n",
       "  </thead>\n",
       "  <tbody>\n",
       "    <tr>\n",
       "      <th>count</th>\n",
       "      <td>4340.000000</td>\n",
       "      <td>4.340000e+03</td>\n",
       "      <td>4340.000000</td>\n",
       "    </tr>\n",
       "    <tr>\n",
       "      <th>mean</th>\n",
       "      <td>2013.090783</td>\n",
       "      <td>5.041273e+05</td>\n",
       "      <td>66215.777419</td>\n",
       "    </tr>\n",
       "    <tr>\n",
       "      <th>std</th>\n",
       "      <td>4.215344</td>\n",
       "      <td>5.785487e+05</td>\n",
       "      <td>46644.102194</td>\n",
       "    </tr>\n",
       "    <tr>\n",
       "      <th>min</th>\n",
       "      <td>1992.000000</td>\n",
       "      <td>2.000000e+04</td>\n",
       "      <td>1.000000</td>\n",
       "    </tr>\n",
       "    <tr>\n",
       "      <th>25%</th>\n",
       "      <td>2011.000000</td>\n",
       "      <td>2.087498e+05</td>\n",
       "      <td>35000.000000</td>\n",
       "    </tr>\n",
       "    <tr>\n",
       "      <th>50%</th>\n",
       "      <td>2014.000000</td>\n",
       "      <td>3.500000e+05</td>\n",
       "      <td>60000.000000</td>\n",
       "    </tr>\n",
       "    <tr>\n",
       "      <th>75%</th>\n",
       "      <td>2016.000000</td>\n",
       "      <td>6.000000e+05</td>\n",
       "      <td>90000.000000</td>\n",
       "    </tr>\n",
       "    <tr>\n",
       "      <th>max</th>\n",
       "      <td>2020.000000</td>\n",
       "      <td>8.900000e+06</td>\n",
       "      <td>806599.000000</td>\n",
       "    </tr>\n",
       "  </tbody>\n",
       "</table>\n",
       "</div>"
      ],
      "text/plain": [
       "              year  selling_price      km_driven\n",
       "count  4340.000000   4.340000e+03    4340.000000\n",
       "mean   2013.090783   5.041273e+05   66215.777419\n",
       "std       4.215344   5.785487e+05   46644.102194\n",
       "min    1992.000000   2.000000e+04       1.000000\n",
       "25%    2011.000000   2.087498e+05   35000.000000\n",
       "50%    2014.000000   3.500000e+05   60000.000000\n",
       "75%    2016.000000   6.000000e+05   90000.000000\n",
       "max    2020.000000   8.900000e+06  806599.000000"
      ]
     },
     "execution_count": 13,
     "metadata": {},
     "output_type": "execute_result"
    }
   ],
   "source": [
    "#description of the data\n",
    "dataset.describe()"
   ]
  },
  {
   "cell_type": "code",
   "execution_count": 14,
   "id": "3bb65feb",
   "metadata": {},
   "outputs": [
    {
     "data": {
      "text/html": [
       "<div>\n",
       "<style scoped>\n",
       "    .dataframe tbody tr th:only-of-type {\n",
       "        vertical-align: middle;\n",
       "    }\n",
       "\n",
       "    .dataframe tbody tr th {\n",
       "        vertical-align: top;\n",
       "    }\n",
       "\n",
       "    .dataframe thead th {\n",
       "        text-align: right;\n",
       "    }\n",
       "</style>\n",
       "<table border=\"1\" class=\"dataframe\">\n",
       "  <thead>\n",
       "    <tr style=\"text-align: right;\">\n",
       "      <th></th>\n",
       "      <th>name</th>\n",
       "      <th>year</th>\n",
       "      <th>selling_price</th>\n",
       "      <th>km_driven</th>\n",
       "      <th>fuel</th>\n",
       "      <th>seller_type</th>\n",
       "      <th>transmission</th>\n",
       "      <th>owner</th>\n",
       "    </tr>\n",
       "  </thead>\n",
       "  <tbody>\n",
       "  </tbody>\n",
       "</table>\n",
       "</div>"
      ],
      "text/plain": [
       "Empty DataFrame\n",
       "Columns: [name, year, selling_price, km_driven, fuel, seller_type, transmission, owner]\n",
       "Index: []"
      ]
     },
     "execution_count": 14,
     "metadata": {},
     "output_type": "execute_result"
    }
   ],
   "source": [
    "#finding Values that are our of the range\n",
    "dataset[dataset['selling_price']>9e6]"
   ]
  },
  {
   "cell_type": "code",
   "execution_count": 15,
   "id": "37a0f177",
   "metadata": {},
   "outputs": [],
   "source": [
    "#Neglecting the Values that are out of range\n",
    "dataset=dataset[dataset['selling_price']<9e6].reset_index(drop=True)"
   ]
  },
  {
   "cell_type": "code",
   "execution_count": 16,
   "id": "bbbc09db",
   "metadata": {},
   "outputs": [
    {
     "data": {
      "text/html": [
       "<div>\n",
       "<style scoped>\n",
       "    .dataframe tbody tr th:only-of-type {\n",
       "        vertical-align: middle;\n",
       "    }\n",
       "\n",
       "    .dataframe tbody tr th {\n",
       "        vertical-align: top;\n",
       "    }\n",
       "\n",
       "    .dataframe thead th {\n",
       "        text-align: right;\n",
       "    }\n",
       "</style>\n",
       "<table border=\"1\" class=\"dataframe\">\n",
       "  <thead>\n",
       "    <tr style=\"text-align: right;\">\n",
       "      <th></th>\n",
       "      <th>name</th>\n",
       "      <th>year</th>\n",
       "      <th>selling_price</th>\n",
       "      <th>km_driven</th>\n",
       "      <th>fuel</th>\n",
       "      <th>seller_type</th>\n",
       "      <th>transmission</th>\n",
       "      <th>owner</th>\n",
       "    </tr>\n",
       "  </thead>\n",
       "  <tbody>\n",
       "    <tr>\n",
       "      <th>0</th>\n",
       "      <td>Maruti 800 AC</td>\n",
       "      <td>2007</td>\n",
       "      <td>60000</td>\n",
       "      <td>70000</td>\n",
       "      <td>Petrol</td>\n",
       "      <td>Individual</td>\n",
       "      <td>Manual</td>\n",
       "      <td>First Owner</td>\n",
       "    </tr>\n",
       "    <tr>\n",
       "      <th>1</th>\n",
       "      <td>Maruti Wagon R</td>\n",
       "      <td>2007</td>\n",
       "      <td>135000</td>\n",
       "      <td>50000</td>\n",
       "      <td>Petrol</td>\n",
       "      <td>Individual</td>\n",
       "      <td>Manual</td>\n",
       "      <td>First Owner</td>\n",
       "    </tr>\n",
       "    <tr>\n",
       "      <th>2</th>\n",
       "      <td>Hyundai Verna 1.6</td>\n",
       "      <td>2012</td>\n",
       "      <td>600000</td>\n",
       "      <td>100000</td>\n",
       "      <td>Diesel</td>\n",
       "      <td>Individual</td>\n",
       "      <td>Manual</td>\n",
       "      <td>First Owner</td>\n",
       "    </tr>\n",
       "    <tr>\n",
       "      <th>3</th>\n",
       "      <td>Datsun RediGO T</td>\n",
       "      <td>2017</td>\n",
       "      <td>250000</td>\n",
       "      <td>46000</td>\n",
       "      <td>Petrol</td>\n",
       "      <td>Individual</td>\n",
       "      <td>Manual</td>\n",
       "      <td>First Owner</td>\n",
       "    </tr>\n",
       "    <tr>\n",
       "      <th>4</th>\n",
       "      <td>Honda Amaze VX</td>\n",
       "      <td>2014</td>\n",
       "      <td>450000</td>\n",
       "      <td>141000</td>\n",
       "      <td>Diesel</td>\n",
       "      <td>Individual</td>\n",
       "      <td>Manual</td>\n",
       "      <td>Second Owner</td>\n",
       "    </tr>\n",
       "    <tr>\n",
       "      <th>...</th>\n",
       "      <td>...</td>\n",
       "      <td>...</td>\n",
       "      <td>...</td>\n",
       "      <td>...</td>\n",
       "      <td>...</td>\n",
       "      <td>...</td>\n",
       "      <td>...</td>\n",
       "      <td>...</td>\n",
       "    </tr>\n",
       "    <tr>\n",
       "      <th>4335</th>\n",
       "      <td>Hyundai i20 Magna</td>\n",
       "      <td>2014</td>\n",
       "      <td>409999</td>\n",
       "      <td>80000</td>\n",
       "      <td>Diesel</td>\n",
       "      <td>Individual</td>\n",
       "      <td>Manual</td>\n",
       "      <td>Second Owner</td>\n",
       "    </tr>\n",
       "    <tr>\n",
       "      <th>4336</th>\n",
       "      <td>Hyundai i20 Magna</td>\n",
       "      <td>2014</td>\n",
       "      <td>409999</td>\n",
       "      <td>80000</td>\n",
       "      <td>Diesel</td>\n",
       "      <td>Individual</td>\n",
       "      <td>Manual</td>\n",
       "      <td>Second Owner</td>\n",
       "    </tr>\n",
       "    <tr>\n",
       "      <th>4337</th>\n",
       "      <td>Maruti 800 AC</td>\n",
       "      <td>2009</td>\n",
       "      <td>110000</td>\n",
       "      <td>83000</td>\n",
       "      <td>Petrol</td>\n",
       "      <td>Individual</td>\n",
       "      <td>Manual</td>\n",
       "      <td>Second Owner</td>\n",
       "    </tr>\n",
       "    <tr>\n",
       "      <th>4338</th>\n",
       "      <td>Hyundai Creta 1.6</td>\n",
       "      <td>2016</td>\n",
       "      <td>865000</td>\n",
       "      <td>90000</td>\n",
       "      <td>Diesel</td>\n",
       "      <td>Individual</td>\n",
       "      <td>Manual</td>\n",
       "      <td>First Owner</td>\n",
       "    </tr>\n",
       "    <tr>\n",
       "      <th>4339</th>\n",
       "      <td>Renault KWID RXT</td>\n",
       "      <td>2016</td>\n",
       "      <td>225000</td>\n",
       "      <td>40000</td>\n",
       "      <td>Petrol</td>\n",
       "      <td>Individual</td>\n",
       "      <td>Manual</td>\n",
       "      <td>First Owner</td>\n",
       "    </tr>\n",
       "  </tbody>\n",
       "</table>\n",
       "<p>4340 rows × 8 columns</p>\n",
       "</div>"
      ],
      "text/plain": [
       "                   name  year  selling_price  km_driven    fuel seller_type  \\\n",
       "0         Maruti 800 AC  2007          60000      70000  Petrol  Individual   \n",
       "1        Maruti Wagon R  2007         135000      50000  Petrol  Individual   \n",
       "2     Hyundai Verna 1.6  2012         600000     100000  Diesel  Individual   \n",
       "3       Datsun RediGO T  2017         250000      46000  Petrol  Individual   \n",
       "4        Honda Amaze VX  2014         450000     141000  Diesel  Individual   \n",
       "...                 ...   ...            ...        ...     ...         ...   \n",
       "4335  Hyundai i20 Magna  2014         409999      80000  Diesel  Individual   \n",
       "4336  Hyundai i20 Magna  2014         409999      80000  Diesel  Individual   \n",
       "4337      Maruti 800 AC  2009         110000      83000  Petrol  Individual   \n",
       "4338  Hyundai Creta 1.6  2016         865000      90000  Diesel  Individual   \n",
       "4339   Renault KWID RXT  2016         225000      40000  Petrol  Individual   \n",
       "\n",
       "     transmission         owner  \n",
       "0          Manual   First Owner  \n",
       "1          Manual   First Owner  \n",
       "2          Manual   First Owner  \n",
       "3          Manual   First Owner  \n",
       "4          Manual  Second Owner  \n",
       "...           ...           ...  \n",
       "4335       Manual  Second Owner  \n",
       "4336       Manual  Second Owner  \n",
       "4337       Manual  Second Owner  \n",
       "4338       Manual   First Owner  \n",
       "4339       Manual   First Owner  \n",
       "\n",
       "[4340 rows x 8 columns]"
      ]
     },
     "execution_count": 16,
     "metadata": {},
     "output_type": "execute_result"
    }
   ],
   "source": [
    "#display of the data\n",
    "dataset"
   ]
  },
  {
   "cell_type": "code",
   "execution_count": 17,
   "id": "7c97ca7d",
   "metadata": {},
   "outputs": [],
   "source": [
    "#Storing cleared data into another csv file\n",
    "dataset.to_csv('Cleaned Dataset.csv') "
   ]
  },
  {
   "cell_type": "code",
   "execution_count": 18,
   "id": "92fb2e61",
   "metadata": {},
   "outputs": [],
   "source": [
    "X= dataset.drop(columns='selling_price')\n",
    "y=dataset['selling_price']"
   ]
  },
  {
   "cell_type": "code",
   "execution_count": 19,
   "id": "f3b2178c",
   "metadata": {},
   "outputs": [
    {
     "data": {
      "text/plain": [
       "0        60000\n",
       "1       135000\n",
       "2       600000\n",
       "3       250000\n",
       "4       450000\n",
       "         ...  \n",
       "4335    409999\n",
       "4336    409999\n",
       "4337    110000\n",
       "4338    865000\n",
       "4339    225000\n",
       "Name: selling_price, Length: 4340, dtype: int64"
      ]
     },
     "execution_count": 19,
     "metadata": {},
     "output_type": "execute_result"
    }
   ],
   "source": [
    "y"
   ]
  },
  {
   "cell_type": "code",
   "execution_count": 20,
   "id": "e96cba7d",
   "metadata": {},
   "outputs": [],
   "source": [
    "#importing required libraries\n",
    "from sklearn.model_selection import train_test_split"
   ]
  },
  {
   "cell_type": "code",
   "execution_count": 21,
   "id": "327730ec",
   "metadata": {},
   "outputs": [],
   "source": [
    "# Training and Testing the Data\n",
    "X_train,X_test,y_train,y_test = train_test_split(X,y,test_size=0.3)"
   ]
  },
  {
   "cell_type": "code",
   "execution_count": 22,
   "id": "3ca2b5a1",
   "metadata": {},
   "outputs": [],
   "source": [
    "#importing required libraries\n",
    "from sklearn.linear_model import LinearRegression"
   ]
  },
  {
   "cell_type": "code",
   "execution_count": 23,
   "id": "a732db5f",
   "metadata": {},
   "outputs": [],
   "source": [
    "#importing required libraries\n",
    "from sklearn.metrics import r2_score\n",
    "from sklearn.preprocessing import OneHotEncoder\n",
    "from sklearn.compose import make_column_transformer\n",
    "from sklearn.pipeline import make_pipeline "
   ]
  },
  {
   "cell_type": "code",
   "execution_count": 24,
   "id": "61d650a5",
   "metadata": {},
   "outputs": [
    {
     "data": {
      "text/plain": [
       "OneHotEncoder()"
      ]
     },
     "execution_count": 24,
     "metadata": {},
     "output_type": "execute_result"
    }
   ],
   "source": [
    "#One Hot Encoding\n",
    "ohe = OneHotEncoder()\n",
    "ohe.fit(X[['year','km_driven','name','fuel','seller_type','transmission','owner']])"
   ]
  },
  {
   "cell_type": "code",
   "execution_count": 25,
   "id": "66efe4d6",
   "metadata": {},
   "outputs": [
    {
     "data": {
      "text/plain": [
       "[array([1992, 1995, 1996, 1997, 1998, 1999, 2000, 2001, 2002, 2003, 2004,\n",
       "        2005, 2006, 2007, 2008, 2009, 2010, 2011, 2012, 2013, 2014, 2015,\n",
       "        2016, 2017, 2018, 2019, 2020], dtype=int64),\n",
       " array([     1,    101,   1000,   1001,   1010,   1100,   1111,   1136,\n",
       "          1200,   1250,   1300,   1400,   1440,   1452,   1500,   1700,\n",
       "          1758,   1950,   2000,   2020,   2417,   2500,   2650,   2769,\n",
       "          3000,   3240,   3600,   3700,   3917,   4000,   4400,   4432,\n",
       "          4500,   4637,   5000,   5007,   5166,   5200,   5400,   5550,\n",
       "          5800,   6000,   6480,   6500,   6590,   7000,   7104,   7300,\n",
       "          7600,   7658,   7900,   8000,   8352,   8500,   9000,   9161,\n",
       "          9400,   9422,   9500,   9528,   9700,   9745,   9748,   9800,\n",
       "         10000,  10171,  10200,  10211,  10300,  10500,  10510,  10832,\n",
       "         10980,  11000,  11114,  11174,  11200,  11212,  11240,  11451,\n",
       "         11473,  11700,  11918,  11958,  12000,  12500,  12586,  12700,\n",
       "         12997,  12999,  13000,  13250,  13270,  13500,  13599,  13770,\n",
       "         13800,  13900,  14000,  14100,  14272,  14365,  14500,  14681,\n",
       "         14700,  14825,  14987,  15000,  16000,  16267,  16400,  16584,\n",
       "         17000,  17100,  17152,  17500,  17563,  18000,  18054,  18469,\n",
       "         18500,  18591,  19000,  19014,  19077,  19107,  19495,  19571,\n",
       "         19600,  19890,  20000,  20118,  20194,  20500,  20629,  20694,\n",
       "         20778,  20969,  21000,  21170,  21302,  21394,  22000,  22038,\n",
       "         22155,  22255,  22288,  22700,  23000,  23038,  23122,  23262,\n",
       "         23600,  23670,  23800,  23839,  23974,  24000,  24005,  24585,\n",
       "         24600,  24662,  25000,  25061,  25552,  25880,  26000,  26134,\n",
       "         26350,  26430,  26500,  26766,  27000,  27005,  27289,  27483,\n",
       "         27620,  27633,  27974,  28000,  28205,  28217,  28245,  28481,\n",
       "         28635,  28643,  28689,  28740,  28838,  28942,  29000,  29173,\n",
       "         29600,  29654,  29900,  29976,  30000,  30093,  30300,  30375,\n",
       "         30500,  30600,  30646,  31000,  31063,  31080,  31200,  31367,\n",
       "         31489,  31491,  31707,  31800,  32000,  32077,  32114,  32260,\n",
       "         32670,  32686,  32933,  33000,  33033,  33100,  33800,  34000,\n",
       "         34400,  34500,  34600,  34823,  34982,  35000,  35008,  35122,\n",
       "         35299,  35925,  36000,  37000,  37091,  37161,  37500,  37516,\n",
       "         37555,  37605,  38000,  38083,  38217,  38365,  38406,  38500,\n",
       "         38900,  39000,  39039,  39093,  39221,  39227,  39415,  39503,\n",
       "         39895,  40000,  40219,  40700,  40771,  40890,  40903,  41000,\n",
       "         41025,  41041,  41090,  41123,  41125,  41395,  41723,  41988,\n",
       "         42000,  42215,  42324,  42494,  42500,  42655,  42743,  43000,\n",
       "         43100,  43128,  43192,  43235,  43377,  43500,  43608,  43700,\n",
       "         43826,  44000,  44049,  44077,  44416,  44440,  44500,  44588,\n",
       "         44800,  44875,  45000,  45087,  45143,  45217,  45241,  45264,\n",
       "         45454,  45457,  45766,  45839,  45974,  46000,  46412,  46507,\n",
       "         46730,  46957,  47000,  47162,  47253,  47564,  48000,  48220,\n",
       "         48238,  48500,  48600,  48781,  48965,  48980,  49000,  49213,\n",
       "         49217,  49359,  49600,  49654,  49824,  49834,  49957,  50000,\n",
       "         50300,  50699,  50852,  50900,  51000,  51500,  51687,  52000,\n",
       "         52047,  52328,  52517,  52536,  52547,  52600,  52895,  53000,\n",
       "         53122,  53261,  53500,  53600,  53652,  53772,  54000,  54206,\n",
       "         54309,  54350,  54551,  54565,  54634,  54784,  55000,  55130,\n",
       "         55168,  55250,  55300,  55328,  55340,  55425,  55545,  55766,\n",
       "         55800,  55838,  55850,  56000,  56207,  56228,  56541,  56580,\n",
       "         56600,  57000,  57035,  57112,  57353,  57904,  58000,  58182,\n",
       "         58231,  58500,  58692,  58850,  59000,  59059,  59100,  59110,\n",
       "         59213,  59258,  59319,  59385,  59858,  60000,  60208,  60236,\n",
       "         60400,  60516,  60800,  60826,  61000,  61083,  61187,  61585,\n",
       "         61624,  61658,  61690,  62000,  62009,  62200,  62237,  62601,\n",
       "         62668,  63000,  63063,  63230,  63240,  63356,  63400,  63500,\n",
       "         63654,  63657,  63700,  63840,  64000,  64111,  64156,  64441,\n",
       "         64484,  64541,  64672,  64700,  64916,  65000,  65239,  65500,\n",
       "         66000,  66066,  66363,  66508,  66521,  66569,  66755,  66764,\n",
       "         66778,  66782,  67000,  67067,  67580,  68000,  68293,  68308,\n",
       "         68350,  68458,  68500,  68519,  68523,  68745,  69000,  69069,\n",
       "         69111,  69782,  70000,  70070,  70378,  70950,  71000,  71014,\n",
       "         71042,  71318,  71500,  72000,  72104,  72500,  72539,  72787,\n",
       "         73000,  73300,  73350,  73756,  74000,  74113,  74183,  74300,\n",
       "         74500,  74510,  74800,  74820,  75000,  75118,  75800,  75976,\n",
       "         76000,  76259,  76290,  76400,  76600,  76731,  76736,  77000,\n",
       "         77073,  77350,  78000,  78098,  78322,  78380,  78413,  78771,\n",
       "         78892,  79000,  79350,  79357,  79500,  79641,  79800,  79991,\n",
       "         80000,  80251,  80322,  80362,  80577,  80659,  81000,  81150,\n",
       "         81257,  81324,  81358,  81366,  81595,  81632,  81925,  82000,\n",
       "         82080,  82082,  82695,  83000,  83411,  84000,  84775,  85000,\n",
       "         85036,  85441,  85710,  85962,  86000,  86017,  87000,  87293,\n",
       "         87620,  88000,  88470,  88473,  88500,  88600,  88635,  89000,\n",
       "         89126,  89255,  89550,  89600,  89741,  90000,  90010,  90165,\n",
       "         90246,  90658,  91086,  91195,  91245,  91365,  91505,  92000,\n",
       "         92198,  92621,  92645,  92686,  93000,  93283,  93415,  93900,\n",
       "         94000,  95000,  95149,  95851,  96000,  96987,  97000,  97248,\n",
       "         97700,  98000,  98600,  98900,  99000,  99117,  99700, 100000,\n",
       "        100005, 101000, 101100, 101159, 101504, 101849, 102000, 102307,\n",
       "        102354, 102989, 103921, 104000, 105000, 105429, 105546, 105700,\n",
       "        106000, 107000, 107143, 107500, 108000, 108731, 109000, 109052,\n",
       "        110000, 112198, 112880, 113600, 114000, 115000, 115962, 115992,\n",
       "        116000, 117000, 117780, 118000, 118400, 118700, 119000, 120000,\n",
       "        121764, 123084, 124000, 124439, 125000, 125531, 126000, 127500,\n",
       "        127643, 127884, 128000, 129000, 129627, 130000, 130400, 131365,\n",
       "        132000, 132343, 133000, 133564, 134000, 134444, 135000, 135200,\n",
       "        136000, 136906, 137250, 138000, 138925, 139000, 140000, 140300,\n",
       "        140730, 141000, 141440, 142000, 143000, 144000, 145000, 146000,\n",
       "        148620, 149000, 149500, 149674, 150000, 151000, 151624, 152000,\n",
       "        154000, 155000, 155201, 155500, 155836, 156000, 156040, 157000,\n",
       "        158000, 159000, 160000, 160254, 161327, 162000, 163000, 164000,\n",
       "        165000, 166000, 167223, 167870, 168000, 170000, 172000, 173000,\n",
       "        175000, 175900, 178000, 180000, 181000, 182000, 185000, 186000,\n",
       "        190000, 190621, 192000, 195000, 197000, 200000, 205000, 206500,\n",
       "        210000, 212814, 213000, 217871, 218000, 220000, 221000, 222252,\n",
       "        222435, 223000, 223660, 224642, 230000, 234000, 235000, 238000,\n",
       "        240000, 244000, 245244, 250000, 256000, 260000, 267000, 270000,\n",
       "        280000, 295000, 296823, 300000, 312000, 347089, 350000, 400000,\n",
       "        560000, 806599], dtype=int64),\n",
       " array(['Ambassador CLASSIC 1500', 'Ambassador Classic 2000',\n",
       "        'Ambassador Grand 1800', 'Audi A4 1.8', 'Audi A4 2.0',\n",
       "        'Audi A4 3.0', 'Audi A4 30', 'Audi A4 35', 'Audi A4 New',\n",
       "        'Audi A5 Sportback', 'Audi A6 2.0', 'Audi A6 2.7', 'Audi A6 2.8',\n",
       "        'Audi A8 4.2', 'Audi A8 L', 'Audi Q3 2.0', 'Audi Q3 35',\n",
       "        'Audi Q5 2.0', 'Audi Q5 3.0', 'Audi Q7 35', 'Audi RS7 2015-2019',\n",
       "        'BMW 3 Series', 'BMW 5 Series', 'BMW 7 Series', 'BMW X1 sDrive',\n",
       "        'BMW X1 sDrive20d', 'BMW X5 xDrive', 'Chevrolet Aveo 1.4',\n",
       "        'Chevrolet Aveo 1.6', 'Chevrolet Aveo U-VA',\n",
       "        'Chevrolet Beat Diesel', 'Chevrolet Beat LS', 'Chevrolet Beat LT',\n",
       "        'Chevrolet Beat PS', 'Chevrolet Captiva 2.0L',\n",
       "        'Chevrolet Captiva LT', 'Chevrolet Cruze LT',\n",
       "        'Chevrolet Cruze LTZ', 'Chevrolet Enjoy 1.3',\n",
       "        'Chevrolet Enjoy TCDi', 'Chevrolet Optra 1.6',\n",
       "        'Chevrolet Optra Magnum', 'Chevrolet Sail 1.2',\n",
       "        'Chevrolet Sail 1.3', 'Chevrolet Sail Hatchback',\n",
       "        'Chevrolet Sail LS', 'Chevrolet Spark 1.0', 'Chevrolet Tavera LS',\n",
       "        'Chevrolet Tavera LT', 'Chevrolet Tavera Neo', 'Daewoo Matiz SD',\n",
       "        'Datsun GO A', 'Datsun GO Plus', 'Datsun GO T',\n",
       "        'Datsun RediGO 1.0', 'Datsun RediGO AMT', 'Datsun RediGO S',\n",
       "        'Datsun RediGO SV', 'Datsun RediGO T', 'Datsun redi-GO AMT',\n",
       "        'Fiat 500 Lounge', 'Fiat Avventura MULTIJET',\n",
       "        'Fiat Avventura Urban', 'Fiat Grande Punto', 'Fiat Linea 1.3',\n",
       "        'Fiat Linea Active', 'Fiat Linea Classic', 'Fiat Linea Dynamic',\n",
       "        'Fiat Linea Emotion', 'Fiat Linea T', 'Fiat Palio 1.2',\n",
       "        'Fiat Palio D', 'Fiat Punto 1.2', 'Fiat Punto 1.3',\n",
       "        'Fiat Punto 1.4', 'Fiat Punto EVO', 'Force One EX',\n",
       "        'Ford Aspire Titanium', 'Ford Classic 1.4', 'Ford Classic 1.6',\n",
       "        'Ford EcoSport 1.5', 'Ford Ecosport 1.0', 'Ford Ecosport 1.5',\n",
       "        'Ford Ecosport Sports', 'Ford Ecosport Thunder',\n",
       "        'Ford Endeavour 2.2', 'Ford Endeavour 2.5L', 'Ford Endeavour 3.0L',\n",
       "        'Ford Endeavour 3.2', 'Ford Endeavour 4x2', 'Ford Endeavour 4x4',\n",
       "        'Ford Endeavour Hurricane', 'Ford Endeavour Titanium',\n",
       "        'Ford Endeavour XLT', 'Ford Fiesta 1.4', 'Ford Fiesta 1.5',\n",
       "        'Ford Fiesta 1.6', 'Ford Fiesta Classic', 'Ford Fiesta Diesel',\n",
       "        'Ford Fiesta Petrol', 'Ford Fiesta Titanium', 'Ford Figo 1.2P',\n",
       "        'Ford Figo 1.5', 'Ford Figo 1.5D', 'Ford Figo 1.5P',\n",
       "        'Ford Figo Aspire', 'Ford Figo Diesel', 'Ford Figo Petrol',\n",
       "        'Ford Figo Titanium', 'Ford Figo Trend', 'Ford Freestyle Titanium',\n",
       "        'Ford Freestyle Trend', 'Ford Fusion 1.6', 'Ford Ikon 1.3',\n",
       "        'Ford Ikon 1.3L', 'Ford Ikon 1.4', 'Ford Ikon 1.6',\n",
       "        'Ford Ikon 1.8', 'Honda Accord 2.4', 'Honda Accord VTi-L',\n",
       "        'Honda Amaze E', 'Honda Amaze EX', 'Honda Amaze S',\n",
       "        'Honda Amaze SX', 'Honda Amaze V', 'Honda Amaze VX',\n",
       "        'Honda BR-V i-DTEC', 'Honda BR-V i-VTEC', 'Honda BRV i-DTEC',\n",
       "        'Honda BRV i-VTEC', 'Honda Brio 1.2', 'Honda Brio E',\n",
       "        'Honda Brio Exclusive', 'Honda Brio S', 'Honda Brio V',\n",
       "        'Honda Brio VX', 'Honda CR-V Diesel', 'Honda City 1.3',\n",
       "        'Honda City 1.5', 'Honda City Corporate', 'Honda City E',\n",
       "        'Honda City Edge', 'Honda City S', 'Honda City V',\n",
       "        'Honda City VTEC', 'Honda City VX', 'Honda City i',\n",
       "        'Honda City i-DTEC', 'Honda City i-VTEC', 'Honda Civic 1.8',\n",
       "        'Honda Jazz 1.2', 'Honda Jazz 1.5', 'Honda Jazz S',\n",
       "        'Honda Jazz Select', 'Honda Jazz V', 'Honda Jazz VX',\n",
       "        'Honda Mobilio E', 'Honda Mobilio S', 'Honda Mobilio V',\n",
       "        'Honda WR-V i-DTEC', 'Honda WR-V i-VTEC', 'Hyundai Accent CRDi',\n",
       "        'Hyundai Accent Executive', 'Hyundai Accent GLE',\n",
       "        'Hyundai Accent GLS', 'Hyundai Accent GLX', 'Hyundai Creta 1.4',\n",
       "        'Hyundai Creta 1.6', 'Hyundai EON 1.0', 'Hyundai EON D',\n",
       "        'Hyundai EON Era', 'Hyundai EON LPG', 'Hyundai EON Magna',\n",
       "        'Hyundai EON Sportz', 'Hyundai Elantra 2.0',\n",
       "        'Hyundai Elantra CRDi', 'Hyundai Elantra SX', 'Hyundai Elite i20',\n",
       "        'Hyundai Getz 1.3', 'Hyundai Getz 1.5', 'Hyundai Getz GL',\n",
       "        'Hyundai Getz GLE', 'Hyundai Getz GLS', 'Hyundai Getz GLX',\n",
       "        'Hyundai Grand i10', 'Hyundai Santa Fe', 'Hyundai Santro AT',\n",
       "        'Hyundai Santro Asta', 'Hyundai Santro Era', 'Hyundai Santro GLS',\n",
       "        'Hyundai Santro GS', 'Hyundai Santro LE', 'Hyundai Santro LP',\n",
       "        'Hyundai Santro LS', 'Hyundai Santro Magna',\n",
       "        'Hyundai Santro Sportz', 'Hyundai Santro Xing',\n",
       "        'Hyundai Sonata 2.4L', 'Hyundai Sonata AT', 'Hyundai Sonata CRDi',\n",
       "        'Hyundai Tucson 2.0', 'Hyundai Tucson CRDi', 'Hyundai Venue SX',\n",
       "        'Hyundai Verna 1.4', 'Hyundai Verna 1.6', 'Hyundai Verna CRDi',\n",
       "        'Hyundai Verna SX', 'Hyundai Verna Transform',\n",
       "        'Hyundai Verna VTVT', 'Hyundai Verna XXi', 'Hyundai Verna i',\n",
       "        'Hyundai Xcent 1.1', 'Hyundai Xcent 1.2', 'Hyundai i10 Asta',\n",
       "        'Hyundai i10 Era', 'Hyundai i10 Magna', 'Hyundai i10 Sportz',\n",
       "        'Hyundai i20 1.2', 'Hyundai i20 1.4', 'Hyundai i20 2015-2017',\n",
       "        'Hyundai i20 Active', 'Hyundai i20 Asta', 'Hyundai i20 Magna',\n",
       "        'Hyundai i20 Sportz', 'Isuzu D-Max V-Cross', 'Jaguar XF 2.2',\n",
       "        'Jaguar XF 3.0', 'Jaguar XF 5.0', 'Jaguar XJ 5.0',\n",
       "        'Jeep Compass 1.4', 'Jeep Compass 2.0', 'Kia Seltos HTK',\n",
       "        'Land Rover Discovery', 'Land Rover Range', 'MG Hector Sharp',\n",
       "        'MG Hector Smart', 'Mahindra Alturas G4',\n",
       "        'Mahindra Bolero 2011-2019', 'Mahindra Bolero B4',\n",
       "        'Mahindra Bolero B6', 'Mahindra Bolero DI',\n",
       "        'Mahindra Bolero Power', 'Mahindra Bolero SLE',\n",
       "        'Mahindra Bolero SLX', 'Mahindra Ingenio CRDe', 'Mahindra Jeep CJ',\n",
       "        'Mahindra Jeep CL', 'Mahindra Jeep Classic', 'Mahindra Jeep MM',\n",
       "        'Mahindra KUV 100', 'Mahindra Marazzo M2', 'Mahindra Marazzo M4',\n",
       "        'Mahindra Marazzo M8', 'Mahindra NuvoSport N8',\n",
       "        'Mahindra Quanto C4', 'Mahindra Quanto C6', 'Mahindra Quanto C8',\n",
       "        'Mahindra Renault Logan', 'Mahindra Scorpio 1.99',\n",
       "        'Mahindra Scorpio 2.6', 'Mahindra Scorpio BSIV',\n",
       "        'Mahindra Scorpio EX', 'Mahindra Scorpio LX',\n",
       "        'Mahindra Scorpio M2DI', 'Mahindra Scorpio REV',\n",
       "        'Mahindra Scorpio S10', 'Mahindra Scorpio S11',\n",
       "        'Mahindra Scorpio S2', 'Mahindra Scorpio S4',\n",
       "        'Mahindra Scorpio S5', 'Mahindra Scorpio S6',\n",
       "        'Mahindra Scorpio S7', 'Mahindra Scorpio S9',\n",
       "        'Mahindra Scorpio SLE', 'Mahindra Scorpio SLX',\n",
       "        'Mahindra Scorpio VLS', 'Mahindra Scorpio VLX',\n",
       "        'Mahindra Supro VX', 'Mahindra TUV 300', 'Mahindra Thar 4X2',\n",
       "        'Mahindra Thar 4X4', 'Mahindra Thar CRDe', 'Mahindra Thar DI',\n",
       "        'Mahindra Verito 1.5', 'Mahindra Verito Vibe',\n",
       "        'Mahindra XUV300 W8', 'Mahindra XUV500 AT', 'Mahindra XUV500 W10',\n",
       "        'Mahindra XUV500 W11', 'Mahindra XUV500 W5', 'Mahindra XUV500 W6',\n",
       "        'Mahindra XUV500 W7', 'Mahindra XUV500 W8',\n",
       "        'Mahindra Xylo Celebration', 'Mahindra Xylo D2',\n",
       "        'Mahindra Xylo D4', 'Mahindra Xylo E4', 'Mahindra Xylo E6',\n",
       "        'Mahindra Xylo E8', 'Mahindra Xylo E9', 'Mahindra Xylo H4',\n",
       "        'Mahindra Xylo H8', 'Maruti 800 AC', 'Maruti 800 DUO',\n",
       "        'Maruti 800 DX', 'Maruti 800 EX', 'Maruti 800 Std',\n",
       "        'Maruti A-Star AT', 'Maruti A-Star Lxi', 'Maruti A-Star Vxi',\n",
       "        'Maruti Alto 800', 'Maruti Alto Green', 'Maruti Alto K10',\n",
       "        'Maruti Alto LX', 'Maruti Alto LXI', 'Maruti Alto LXi',\n",
       "        'Maruti Alto STD', 'Maruti Alto VXi', 'Maruti Baleno Alpha',\n",
       "        'Maruti Baleno Delta', 'Maruti Baleno RS', 'Maruti Baleno Sigma',\n",
       "        'Maruti Baleno Vxi', 'Maruti Baleno Zeta', 'Maruti Celerio Green',\n",
       "        'Maruti Celerio LXI', 'Maruti Celerio VDi', 'Maruti Celerio VXI',\n",
       "        'Maruti Celerio X', 'Maruti Celerio ZDi', 'Maruti Celerio ZXI',\n",
       "        'Maruti Ciaz 1.3', 'Maruti Ciaz 1.4', 'Maruti Ciaz S',\n",
       "        'Maruti Ciaz Sigma', 'Maruti Ciaz VDI', 'Maruti Ciaz VDi',\n",
       "        'Maruti Ciaz VXi', 'Maruti Ciaz ZDi', 'Maruti Ciaz ZXi',\n",
       "        'Maruti Ciaz Zeta', 'Maruti Eeco 5', 'Maruti Eeco 7',\n",
       "        'Maruti Eeco CNG', 'Maruti Eeco Smiles', 'Maruti Ertiga 1.5',\n",
       "        'Maruti Ertiga BSIV', 'Maruti Ertiga SHVS', 'Maruti Ertiga VDI',\n",
       "        'Maruti Ertiga VXI', 'Maruti Ertiga ZDI', 'Maruti Ertiga ZXI',\n",
       "        'Maruti Esteem AX', 'Maruti Esteem Lxi', 'Maruti Esteem VX',\n",
       "        'Maruti Esteem Vxi', 'Maruti Estilo LXI', 'Maruti Grand Vitara',\n",
       "        'Maruti Gypsy E', 'Maruti Gypsy King', 'Maruti Ignis 1.2',\n",
       "        'Maruti Ignis 1.3', 'Maruti Omni 5', 'Maruti Omni 8',\n",
       "        'Maruti Omni BSIII', 'Maruti Omni CNG', 'Maruti Omni E',\n",
       "        'Maruti Omni LPG', 'Maruti Omni MPI', 'Maruti Omni Maruti',\n",
       "        'Maruti Ritz LDi', 'Maruti Ritz LXI', 'Maruti Ritz LXi',\n",
       "        'Maruti Ritz VDI', 'Maruti Ritz VDi', 'Maruti Ritz VXI',\n",
       "        'Maruti Ritz VXi', 'Maruti S-Cross Alpha', 'Maruti S-Cross Delta',\n",
       "        'Maruti S-Cross Facelift', 'Maruti S-Cross Sigma',\n",
       "        'Maruti S-Cross Zeta', 'Maruti S-Presso VXI',\n",
       "        'Maruti SX4 Celebration', 'Maruti SX4 S', 'Maruti SX4 VDI',\n",
       "        'Maruti SX4 Vxi', 'Maruti SX4 ZDI', 'Maruti SX4 ZXI',\n",
       "        'Maruti SX4 Zxi', 'Maruti Swift 1.2', 'Maruti Swift 1.3',\n",
       "        'Maruti Swift AMT', 'Maruti Swift DDiS', 'Maruti Swift Dzire',\n",
       "        'Maruti Swift Glam', 'Maruti Swift LDI', 'Maruti Swift LXI',\n",
       "        'Maruti Swift LXi', 'Maruti Swift Ldi', 'Maruti Swift Star',\n",
       "        'Maruti Swift VDI', 'Maruti Swift VDi', 'Maruti Swift VVT',\n",
       "        'Maruti Swift VXI', 'Maruti Swift VXi', 'Maruti Swift Vdi',\n",
       "        'Maruti Swift ZDI', 'Maruti Swift ZDi', 'Maruti Swift ZXI',\n",
       "        'Maruti Swift ZXi', 'Maruti Vitara Brezza', 'Maruti Wagon R',\n",
       "        'Maruti Zen D', 'Maruti Zen Estilo', 'Maruti Zen LX',\n",
       "        'Maruti Zen LXI', 'Maruti Zen LXi', 'Maruti Zen VX',\n",
       "        'Maruti Zen VXI', 'Maruti Zen VXi', 'Mercedes-Benz B Class',\n",
       "        'Mercedes-Benz C-Class Progressive', 'Mercedes-Benz E-Class 220',\n",
       "        'Mercedes-Benz E-Class 230', 'Mercedes-Benz E-Class 280',\n",
       "        'Mercedes-Benz E-Class E', 'Mercedes-Benz E-Class E250',\n",
       "        'Mercedes-Benz E-Class Exclusive', 'Mercedes-Benz GL-Class 350',\n",
       "        'Mercedes-Benz GLS 2016-2020', 'Mercedes-Benz M-Class ML',\n",
       "        'Mercedes-Benz New C-Class', 'Mercedes-Benz S-Class S',\n",
       "        'Mitsubishi Montero 3.2', 'Mitsubishi Outlander 2.4',\n",
       "        'Mitsubishi Pajero 2.8', 'Mitsubishi Pajero Sport',\n",
       "        'Nissan Evalia XV', 'Nissan Kicks XL', 'Nissan Kicks XV',\n",
       "        'Nissan Micra Active', 'Nissan Micra Diesel', 'Nissan Micra XL',\n",
       "        'Nissan Sunny Diesel', 'Nissan Sunny XL', 'Nissan Sunny XV',\n",
       "        'Nissan Terrano XE', 'Nissan Terrano XL', 'Nissan Terrano XV',\n",
       "        'Nissan X-Trail SLX', 'OpelCorsa 1.4 GL', 'OpelCorsa 1.6Gls',\n",
       "        'Renault Captur 1.5', 'Renault Duster 110PS',\n",
       "        'Renault Duster 85PS', 'Renault Duster Petrol',\n",
       "        'Renault Duster RXL', 'Renault Fluence 1.5', 'Renault KWID 1.0',\n",
       "        'Renault KWID AMT', 'Renault KWID Climber', 'Renault KWID RXE',\n",
       "        'Renault KWID RXL', 'Renault KWID RXT', 'Renault Koleos 2.0',\n",
       "        'Renault Lodgy 85PS', 'Renault Lodgy Stepway', 'Renault Pulse RxL',\n",
       "        'Renault Pulse RxZ', 'Renault Scala Diesel', 'Renault Scala RxL',\n",
       "        'Renault Triber RXT', 'Skoda Fabia 1.2', 'Skoda Fabia 1.2L',\n",
       "        'Skoda Laura 1.9', 'Skoda Laura Ambiente', 'Skoda Laura Elegance',\n",
       "        'Skoda Laura L', 'Skoda Octavia Ambiente', 'Skoda Octavia Classic',\n",
       "        'Skoda Octavia Elegance', 'Skoda Rapid 1.5', 'Skoda Rapid 1.6',\n",
       "        'Skoda Rapid Monte', 'Skoda Superb 1.8', 'Skoda Superb Ambition',\n",
       "        'Skoda Superb Elegance', 'Skoda Superb LK', 'Skoda Yeti Ambition',\n",
       "        'Tata Altroz XE', 'Tata Altroz XZ', 'Tata Aria Pleasure',\n",
       "        'Tata Aria Pure', 'Tata Bolt Quadrajet', 'Tata Bolt Revotron',\n",
       "        'Tata Harrier XE', 'Tata Harrier XZ', 'Tata Hexa XM',\n",
       "        'Tata Hexa XT', 'Tata Hexa XTA', 'Tata Indica DL',\n",
       "        'Tata Indica DLE', 'Tata Indica DLS', 'Tata Indica DLX',\n",
       "        'Tata Indica GLS', 'Tata Indica LSI', 'Tata Indica LXI',\n",
       "        'Tata Indica V2', 'Tata Indica Vista', 'Tata Indigo CR4',\n",
       "        'Tata Indigo CS', 'Tata Indigo Classic', 'Tata Indigo GLE',\n",
       "        'Tata Indigo GLS', 'Tata Indigo GLX', 'Tata Indigo Grand',\n",
       "        'Tata Indigo LS', 'Tata Indigo LX', 'Tata Indigo TDI',\n",
       "        'Tata Manza Aqua', 'Tata Manza Aura', 'Tata Manza Club',\n",
       "        'Tata Manza ELAN', 'Tata Nano CX', 'Tata Nano Cx', 'Tata Nano LX',\n",
       "        'Tata Nano Lx', 'Tata Nano STD', 'Tata Nano Std',\n",
       "        'Tata Nano Twist', 'Tata Nano XM', 'Tata New Safari',\n",
       "        'Tata Nexon 1.2', 'Tata Nexon 1.5', 'Tata Safari DICOR',\n",
       "        'Tata Safari Storme', 'Tata Spacio SA', 'Tata Sumo GX',\n",
       "        'Tata Sumo Gold', 'Tata Sumo LX', 'Tata Sumo SE',\n",
       "        'Tata Sumo Victa', 'Tata Tiago 1.05', 'Tata Tiago 1.2',\n",
       "        'Tata Tiago 2019-2020', 'Tata Tiago NRG', 'Tata Tiago XT',\n",
       "        'Tata Tiago XZA', 'Tata Tigor 1.2', 'Tata Venture EX',\n",
       "        'Tata Winger Deluxe', 'Tata Xenon XT', 'Tata Zest Quadrajet',\n",
       "        'Tata Zest Revotron', 'Toyota Camry 2.5', 'Toyota Camry Hybrid',\n",
       "        'Toyota Camry M/t', 'Toyota Corolla AE', 'Toyota Corolla Altis',\n",
       "        'Toyota Corolla Executive', 'Toyota Corolla H2',\n",
       "        'Toyota Corolla H3', 'Toyota Corolla H6', 'Toyota Etios 1.4',\n",
       "        'Toyota Etios 1.5', 'Toyota Etios Cross', 'Toyota Etios GD',\n",
       "        'Toyota Etios Liva', 'Toyota Etios V', 'Toyota Etios VD',\n",
       "        'Toyota Etios VX', 'Toyota Etios VXD', 'Toyota Fortuner 2.7',\n",
       "        'Toyota Fortuner 2.8', 'Toyota Fortuner 3.0',\n",
       "        'Toyota Fortuner 4x2', 'Toyota Fortuner 4x4', 'Toyota Innova 2.0',\n",
       "        'Toyota Innova 2.5', 'Toyota Innova Crysta', 'Toyota Qualis FS',\n",
       "        'Toyota Yaris G', 'Volkswagen Ameo 1.2', 'Volkswagen Ameo 1.5',\n",
       "        'Volkswagen CrossPolo 1.2', 'Volkswagen Jetta 1.4',\n",
       "        'Volkswagen Jetta 1.9', 'Volkswagen Jetta 2.0',\n",
       "        'Volkswagen Jetta 2.0L', 'Volkswagen Passat 1.8',\n",
       "        'Volkswagen Polo 1.0', 'Volkswagen Polo 1.2',\n",
       "        'Volkswagen Polo 1.5', 'Volkswagen Polo 2015-2019',\n",
       "        'Volkswagen Polo Diesel', 'Volkswagen Polo GT',\n",
       "        'Volkswagen Polo GTI', 'Volkswagen Polo Petrol',\n",
       "        'Volkswagen Polo SR', 'Volkswagen Vento 1.0',\n",
       "        'Volkswagen Vento 1.5', 'Volkswagen Vento 1.6',\n",
       "        'Volkswagen Vento Celeste', 'Volkswagen Vento Diesel',\n",
       "        'Volkswagen Vento IPL', 'Volkswagen Vento Magnific',\n",
       "        'Volkswagen Vento New', 'Volkswagen Vento Petrol', 'Volvo V40 D3',\n",
       "        'Volvo XC 90', 'Volvo XC60 D3', 'Volvo XC60 D5'], dtype=object),\n",
       " array(['CNG', 'Diesel', 'Electric', 'LPG', 'Petrol'], dtype=object),\n",
       " array(['Dealer', 'Individual', 'Trustmark Dealer'], dtype=object),\n",
       " array(['Automatic', 'Manual'], dtype=object),\n",
       " array(['First Owner', 'Fourth & Above Owner', 'Second Owner',\n",
       "        'Test Drive Car', 'Third Owner'], dtype=object)]"
      ]
     },
     "execution_count": 25,
     "metadata": {},
     "output_type": "execute_result"
    }
   ],
   "source": [
    "#all the categories\n",
    "ohe.categories_"
   ]
  },
  {
   "cell_type": "code",
   "execution_count": 26,
   "id": "ab8e9ac8",
   "metadata": {},
   "outputs": [],
   "source": [
    "column_trans = make_column_transformer((OneHotEncoder(categories=ohe.categories_),['year','km_driven','name','fuel','seller_type','transmission','owner']),remainder='passthrough')"
   ]
  },
  {
   "cell_type": "code",
   "execution_count": 27,
   "id": "507208ef",
   "metadata": {},
   "outputs": [],
   "source": [
    "lr=LinearRegression()"
   ]
  },
  {
   "cell_type": "code",
   "execution_count": 28,
   "id": "2807e0ca",
   "metadata": {},
   "outputs": [],
   "source": [
    "pipe=make_pipeline(column_trans,lr)"
   ]
  },
  {
   "cell_type": "code",
   "execution_count": 29,
   "id": "59391b71",
   "metadata": {},
   "outputs": [
    {
     "data": {
      "text/plain": [
       "Pipeline(steps=[('columntransformer',\n",
       "                 ColumnTransformer(remainder='passthrough',\n",
       "                                   transformers=[('onehotencoder',\n",
       "                                                  OneHotEncoder(categories=[array([1992, 1995, 1996, 1997, 1998, 1999, 2000, 2001, 2002, 2003, 2004,\n",
       "       2005, 2006, 2007, 2008, 2009, 2010, 2011, 2012, 2013, 2014, 2015,\n",
       "       2016, 2017, 2018, 2019, 2020], dtype=int64),\n",
       "                                                                            array([     1,    101,   1000,   1001,   1010,   1100,   1111,   1136,\n",
       "         1200,   1250,   1300,...\n",
       "                                                                            array(['CNG', 'Diesel', 'Electric', 'LPG', 'Petrol'], dtype=object),\n",
       "                                                                            array(['Dealer', 'Individual', 'Trustmark Dealer'], dtype=object),\n",
       "                                                                            array(['Automatic', 'Manual'], dtype=object),\n",
       "                                                                            array(['First Owner', 'Fourth & Above Owner', 'Second Owner',\n",
       "       'Test Drive Car', 'Third Owner'], dtype=object)]),\n",
       "                                                  ['year', 'km_driven', 'name',\n",
       "                                                   'fuel', 'seller_type',\n",
       "                                                   'transmission',\n",
       "                                                   'owner'])])),\n",
       "                ('linearregression', LinearRegression())])"
      ]
     },
     "execution_count": 29,
     "metadata": {},
     "output_type": "execute_result"
    }
   ],
   "source": [
    "pipe.fit(X_train,y_train)"
   ]
  },
  {
   "cell_type": "code",
   "execution_count": 30,
   "id": "147c4804",
   "metadata": {},
   "outputs": [],
   "source": [
    "y_pred=pipe.predict(X_test)"
   ]
  },
  {
   "cell_type": "code",
   "execution_count": 31,
   "id": "ccb1c835",
   "metadata": {},
   "outputs": [
    {
     "data": {
      "text/plain": [
       "array([603051.94123938, 145109.59365233, 172334.94417202, ...,\n",
       "       310462.87921075,  55167.47590925, 480000.1032901 ])"
      ]
     },
     "execution_count": 31,
     "metadata": {},
     "output_type": "execute_result"
    }
   ],
   "source": [
    "y_pred"
   ]
  },
  {
   "cell_type": "code",
   "execution_count": 32,
   "id": "929ee940",
   "metadata": {},
   "outputs": [
    {
     "data": {
      "text/plain": [
       "0.7953642480595581"
      ]
     },
     "execution_count": 32,
     "metadata": {},
     "output_type": "execute_result"
    }
   ],
   "source": [
    "r2_score(y_test,y_pred)"
   ]
  },
  {
   "cell_type": "code",
   "execution_count": 33,
   "id": "b23ace9f",
   "metadata": {},
   "outputs": [],
   "source": [
    "scores=[]\n",
    "for i in range(1000):\n",
    "    X_train,X_test,y_train,y_test = train_test_split(X,y,test_size=0.30,random_state=i)\n",
    "    lr=LinearRegression()\n",
    "    pipe=make_pipeline(column_trans,lr)\n",
    "    pipe.fit(X_train,y_train)\n",
    "    y_pred=pipe.predict(X_test)\n",
    "    scores.append(r2_score(y_test,y_pred))"
   ]
  },
  {
   "cell_type": "code",
   "execution_count": 34,
   "id": "bdaf684f",
   "metadata": {},
   "outputs": [
    {
     "data": {
      "text/plain": [
       "526"
      ]
     },
     "execution_count": 34,
     "metadata": {},
     "output_type": "execute_result"
    }
   ],
   "source": [
    "np.argmax(scores)"
   ]
  },
  {
   "cell_type": "code",
   "execution_count": 35,
   "id": "09320dfd",
   "metadata": {},
   "outputs": [
    {
     "data": {
      "text/plain": [
       "0.9029517936495329"
      ]
     },
     "execution_count": 35,
     "metadata": {},
     "output_type": "execute_result"
    }
   ],
   "source": [
    "scores[np.argmax(scores)]"
   ]
  },
  {
   "cell_type": "code",
   "execution_count": 36,
   "id": "38bfb152",
   "metadata": {},
   "outputs": [],
   "source": [
    "scores=[]\n",
    "for i in range(1000):\n",
    "    X_train,X_test,y_train,y_test = train_test_split(X,y,test_size=0.30,random_state=i)\n",
    "    lr=LinearRegression()\n",
    "    pipe=make_pipeline(column_trans,lr)\n",
    "    pipe.fit(X_train,y_train)\n",
    "    y_pred=pipe.predict(X_test)\n",
    "    scores.append(r2_score(y_test,y_pred))"
   ]
  },
  {
   "cell_type": "code",
   "execution_count": 37,
   "id": "8a626f23",
   "metadata": {},
   "outputs": [
    {
     "data": {
      "text/plain": [
       "0.9029517936495329"
      ]
     },
     "execution_count": 37,
     "metadata": {},
     "output_type": "execute_result"
    }
   ],
   "source": [
    "#R2 SCORE\n",
    "X_train,X_test,y_train,y_test = train_test_split(X,y,test_size=0.30,random_state=np.argmax(scores))\n",
    "lr=LinearRegression()\n",
    "pipe=make_pipeline(column_trans,lr)\n",
    "pipe.fit(X_train,y_train)\n",
    "y_pred=pipe.predict(X_test)\n",
    "r2_score(y_test,y_pred)\n",
    " "
   ]
  },
  {
   "cell_type": "code",
   "execution_count": 38,
   "id": "efc91534",
   "metadata": {},
   "outputs": [
    {
     "data": {
      "image/png": "[encoded data removed]",
      "text/plain": [
       "<Figure size 432x288 with 1 Axes>"
      ]
     },
     "metadata": {
      "needs_background": "light"
     },
     "output_type": "display_data"
    }
   ],
   "source": [
    "#LINEAR REGRESSION PLOT\n",
    "sns.regplot(x=y_test, y=y_pred)\n",
    "plt.xlabel(\"Predicted Price\")\n",
    "plt.ylabel('Actual Price')\n",
    "plt.title(\"Actual vs predicted price\")\n",
    "plt.show()"
   ]
  },
  {
   "cell_type": "code",
   "execution_count": 39,
   "id": "dfe7882c",
   "metadata": {},
   "outputs": [
    {
     "name": "stderr",
     "output_type": "stream",
     "text": [
      "D:\\ANACONDA\\lib\\site-packages\\seaborn\\distributions.py:2619: FutureWarning: `distplot` is a deprecated function and will be removed in a future version. Please adapt your code to use either `displot` (a figure-level function with similar flexibility) or `histplot` (an axes-level function for histograms).\n",
      "  warnings.warn(msg, FutureWarning)\n"
     ]
    },
    {
     "data": {
      "text/plain": [
       "<AxesSubplot:xlabel='selling_price', ylabel='Density'>"
      ]
     },
     "execution_count": 39,
     "metadata": {},
     "output_type": "execute_result"
    },
    {
     "data": {
      "image/png": "[encoded data removed]",
      "text/plain": [
       "<Figure size 432x288 with 1 Axes>"
      ]
     },
     "metadata": {
      "needs_background": "light"
     },
     "output_type": "display_data"
    }
   ],
   "source": [
    "sns.distplot(y_test-y_pred)"
   ]
  },
  {
   "cell_type": "code",
   "execution_count": 40,
   "id": "ee357f1a",
   "metadata": {},
   "outputs": [
    {
     "data": {
      "text/plain": [
       "<matplotlib.collections.PathCollection at 0x17e3f0f5fa0>"
      ]
     },
     "execution_count": 40,
     "metadata": {},
     "output_type": "execute_result"
    },
    {
     "data": {
      "image/png": "[encoded data removed]",
      "text/plain": [
       "<Figure size 432x288 with 1 Axes>"
      ]
     },
     "metadata": {
      "needs_background": "light"
     },
     "output_type": "display_data"
    }
   ],
   "source": [
    "plt.scatter(y_test,y_pred)"
   ]
  },
  {
   "cell_type": "code",
   "execution_count": 41,
   "id": "f77950ae",
   "metadata": {},
   "outputs": [],
   "source": [
    "import pickle"
   ]
  },
  {
   "cell_type": "code",
   "execution_count": 42,
   "id": "fbb59cdc",
   "metadata": {},
   "outputs": [],
   "source": [
    "pickle.dump(pipe,open('linearRegressionModel.pkl','wb'))"
   ]
  },
  {
   "cell_type": "code",
   "execution_count": 43,
   "id": "f35e80a0",
   "metadata": {},
   "outputs": [
    {
     "data": {
      "text/plain": [
       "array([423539.62137314])"
      ]
     },
     "execution_count": 43,
     "metadata": {},
     "output_type": "execute_result"
    }
   ],
   "source": [
    "pipe.predict(pd.DataFrame([['Hyundai Xcent 1.2',2016,25000,'Petrol','Individual','Manual','First Owner']], columns=['name','year','km_driven','fuel','seller_type','transmission','owner']))"
   ]
  }
 ],
 "metadata": {
  "kernelspec": {
   "display_name": "Python 3 (ipykernel)",
   "language": "python",
   "name": "python3"
  },
  "language_info": {
   "codemirror_mode": {
    "name": "ipython",
    "version": 3
   },
   "file_extension": ".py",
   "mimetype": "text/x-python",
   "name": "python",
   "nbconvert_exporter": "python",
   "pygments_lexer": "ipython3",
   "version": "3.9.7"
  }
 },
 "nbformat": 4,
 "nbformat_minor": 5
}
